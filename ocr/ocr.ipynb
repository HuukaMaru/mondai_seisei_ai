{
 "cells": [
  {
   "cell_type": "code",
   "execution_count": 1,
   "metadata": {},
   "outputs": [],
   "source": [
    "from PIL import Image\n",
    "import pyocr\n",
    "import pyocr.builders\n",
    "import cv2\n",
    "import numpy as np\n",
    "from pdf2image import convert_from_path\n",
    "from pathlib import Path\n",
    "import os\n",
    "\n",
    "# poppler/binを環境変数PATHに追加する\n",
    "poppler_dir = Path(\".\").absolute() / \"poppler/Library/bin\"\n",
    "os.environ[\"PATH\"] += os.pathsep + str(poppler_dir)"
   ]
  },
  {
   "cell_type": "code",
   "execution_count": 2,
   "metadata": {},
   "outputs": [],
   "source": [
    "def img_2_text(img, layout=6):\n",
    "    tools = pyocr.get_available_tools()\n",
    "    tool = tools[0]\n",
    "    # OCR\n",
    "    builder = pyocr.builders.TextBuilder(tesseract_layout=layout)\n",
    "    result = tool.image_to_string(img, lang=\"jpn\", builder=builder)\n",
    "    # 結果から空白文字削除\n",
    "    data_list = [text for text in result.split('\\n') if text.strip()]\n",
    "    data_list\n",
    "    return data_list\n",
    "\n",
    "def render_doc_text(file_path):\n",
    "    # ツール取得\n",
    "    pyocr.tesseract.TESSERACT_CMD = 'C:/Program Files/Tesseract-OCR/tesseract.exe'\n",
    "    # 画像取得\n",
    "    img = cv2.imread(file_path, 0)\n",
    "    img = Image.fromarray(img)\n",
    "    return (img_2_text(img))"
   ]
  },
  {
   "cell_type": "code",
   "execution_count": 6,
   "metadata": {},
   "outputs": [
    {
     "data": {
      "text/plain": [
       "['19, 56', '@', '16,26,36,46,56,', '156', 'みつ けた 「!']"
      ]
     },
     "execution_count": 6,
     "metadata": {},
     "output_type": "execute_result"
    }
   ],
   "source": [
    "data = render_doc_text(\"../data/test.png\")\n",
    "data"
   ]
  },
  {
   "cell_type": "code",
   "execution_count": 6,
   "metadata": {},
   "outputs": [
    {
     "name": "stdout",
     "output_type": "stream",
     "text": [
      "list index out of range\n",
      "list index out of range\n",
      "list index out of range\n",
      "list index out of range\n",
      "list index out of range\n",
      "list index out of range\n",
      "list index out of range\n",
      "list index out of range\n",
      "list index out of range\n",
      "list index out of range\n",
      "list index out of range\n",
      "list index out of range\n",
      "list index out of range\n",
      "list index out of range\n"
     ]
    }
   ],
   "source": [
    "for index in range(0, 14):\n",
    "    pdf_path = \"../data/pm01.pdf\"\n",
    "    save_txt_path = \"../data/pm01_{}.txt\".format(index)\n",
    "\n",
    "    # PDFファイルを画像に変換\n",
    "    pages = convert_from_path(pdf_path, dpi=150)\n",
    "    result = \"\"\n",
    "    for i, page in enumerate(pages):\n",
    "        texts = []\n",
    "        try:\n",
    "            texts = img_2_text(page, index)\n",
    "        except Exception as e:\n",
    "            print(e)\n",
    "            break\n",
    "        for text in texts:\n",
    "            result += text\n",
    "\n",
    "    with open(save_txt_path, mode=\"w\") as f:\n",
    "        f.write(result)\n"
   ]
  }
 ],
 "metadata": {
  "kernelspec": {
   "display_name": ".venv",
   "language": "python",
   "name": "python3"
  },
  "language_info": {
   "codemirror_mode": {
    "name": "ipython",
    "version": 3
   },
   "file_extension": ".py",
   "mimetype": "text/x-python",
   "name": "python",
   "nbconvert_exporter": "python",
   "pygments_lexer": "ipython3",
   "version": "3.12.3"
  }
 },
 "nbformat": 4,
 "nbformat_minor": 2
}
